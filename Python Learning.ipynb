{
 "cells": [
  {
   "cell_type": "code",
   "execution_count": 1,
   "id": "5abf4234",
   "metadata": {
    "scrolled": true
   },
   "outputs": [
    {
     "name": "stdout",
     "output_type": "stream",
     "text": [
      "Hello World\n"
     ]
    }
   ],
   "source": [
    "print('Hello World')"
   ]
  },
  {
   "cell_type": "code",
   "execution_count": 2,
   "id": "b85b2a18",
   "metadata": {},
   "outputs": [
    {
     "name": "stdout",
     "output_type": "stream",
     "text": [
      "35\n"
     ]
    }
   ],
   "source": [
    "print(10+25)"
   ]
  },
  {
   "cell_type": "code",
   "execution_count": 9,
   "id": "0825414c",
   "metadata": {},
   "outputs": [
    {
     "name": "stdout",
     "output_type": "stream",
     "text": [
      "What is your name?Lawrence\n",
      "Which color do you likeBlue\n"
     ]
    }
   ],
   "source": [
    "name = input(\"What is your name?\")\n",
    "color = input(\"Which color do you like\")"
   ]
  },
  {
   "cell_type": "code",
   "execution_count": 10,
   "id": "b9f0383a",
   "metadata": {
    "scrolled": true
   },
   "outputs": [
    {
     "name": "stdout",
     "output_type": "stream",
     "text": [
      "Lawrence\n"
     ]
    }
   ],
   "source": [
    "print(name)"
   ]
  },
  {
   "cell_type": "code",
   "execution_count": 12,
   "id": "d6ab2e2d",
   "metadata": {},
   "outputs": [
    {
     "name": "stdout",
     "output_type": "stream",
     "text": [
      "Blue\n"
     ]
    }
   ],
   "source": [
    "print(color)"
   ]
  },
  {
   "cell_type": "code",
   "execution_count": 13,
   "id": "e3de090d",
   "metadata": {},
   "outputs": [
    {
     "name": "stdout",
     "output_type": "stream",
     "text": [
      "Hi Lawrence! Blue\n"
     ]
    }
   ],
   "source": [
    "print(\"Hi \" + name + \"! \" + color)"
   ]
  },
  {
   "cell_type": "code",
   "execution_count": 14,
   "id": "1e71ce02",
   "metadata": {},
   "outputs": [],
   "source": [
    "def addFive(x):\n",
    "    print(5 + x)"
   ]
  },
  {
   "cell_type": "code",
   "execution_count": 16,
   "id": "adbb09c6",
   "metadata": {
    "scrolled": true
   },
   "outputs": [
    {
     "ename": "NameError",
     "evalue": "name 'X' is not defined",
     "output_type": "error",
     "traceback": [
      "\u001b[0;31m---------------------------------------------------------------------------\u001b[0m",
      "\u001b[0;31mNameError\u001b[0m                                 Traceback (most recent call last)",
      "Cell \u001b[0;32mIn[16], line 1\u001b[0m\n\u001b[0;32m----> 1\u001b[0m addFive(\u001b[38;5;241m10\u001b[39m)\n",
      "Cell \u001b[0;32mIn[14], line 2\u001b[0m, in \u001b[0;36maddFive\u001b[0;34m(x)\u001b[0m\n\u001b[1;32m      1\u001b[0m \u001b[38;5;28;01mdef\u001b[39;00m \u001b[38;5;21maddFive\u001b[39m(x):\n\u001b[0;32m----> 2\u001b[0m     \u001b[38;5;28mprint\u001b[39m(\u001b[38;5;241m5\u001b[39m \u001b[38;5;241m+\u001b[39m X)\n",
      "\u001b[0;31mNameError\u001b[0m: name 'X' is not defined"
     ]
    }
   ],
   "source": [
    "addFive(10)"
   ]
  },
  {
   "cell_type": "code",
   "execution_count": 17,
   "id": "d19f1e43",
   "metadata": {},
   "outputs": [
    {
     "ename": "NameError",
     "evalue": "name 'X' is not defined",
     "output_type": "error",
     "traceback": [
      "\u001b[0;31m---------------------------------------------------------------------------\u001b[0m",
      "\u001b[0;31mNameError\u001b[0m                                 Traceback (most recent call last)",
      "Cell \u001b[0;32mIn[17], line 1\u001b[0m\n\u001b[0;32m----> 1\u001b[0m addFive(\u001b[38;5;241m10\u001b[39m)\n",
      "Cell \u001b[0;32mIn[14], line 2\u001b[0m, in \u001b[0;36maddFive\u001b[0;34m(x)\u001b[0m\n\u001b[1;32m      1\u001b[0m \u001b[38;5;28;01mdef\u001b[39;00m \u001b[38;5;21maddFive\u001b[39m(x):\n\u001b[0;32m----> 2\u001b[0m     \u001b[38;5;28mprint\u001b[39m(\u001b[38;5;241m5\u001b[39m \u001b[38;5;241m+\u001b[39m X)\n",
      "\u001b[0;31mNameError\u001b[0m: name 'X' is not defined"
     ]
    }
   ],
   "source": [
    "addFive(10)"
   ]
  },
  {
   "cell_type": "code",
   "execution_count": 18,
   "id": "37cd4cae",
   "metadata": {},
   "outputs": [
    {
     "ename": "NameError",
     "evalue": "name 'X' is not defined",
     "output_type": "error",
     "traceback": [
      "\u001b[0;31m---------------------------------------------------------------------------\u001b[0m",
      "\u001b[0;31mNameError\u001b[0m                                 Traceback (most recent call last)",
      "Cell \u001b[0;32mIn[18], line 1\u001b[0m\n\u001b[0;32m----> 1\u001b[0m addFive(\u001b[38;5;241m30\u001b[39m)\n",
      "Cell \u001b[0;32mIn[14], line 2\u001b[0m, in \u001b[0;36maddFive\u001b[0;34m(x)\u001b[0m\n\u001b[1;32m      1\u001b[0m \u001b[38;5;28;01mdef\u001b[39;00m \u001b[38;5;21maddFive\u001b[39m(x):\n\u001b[0;32m----> 2\u001b[0m     \u001b[38;5;28mprint\u001b[39m(\u001b[38;5;241m5\u001b[39m \u001b[38;5;241m+\u001b[39m X)\n",
      "\u001b[0;31mNameError\u001b[0m: name 'X' is not defined"
     ]
    }
   ],
   "source": [
    "addFive(30)"
   ]
  },
  {
   "cell_type": "code",
   "execution_count": 19,
   "id": "d02dc3b6",
   "metadata": {},
   "outputs": [],
   "source": [
    "def addten(y):\n",
    "    print(5 + y)"
   ]
  },
  {
   "cell_type": "code",
   "execution_count": 20,
   "id": "2e95f888",
   "metadata": {},
   "outputs": [
    {
     "name": "stdout",
     "output_type": "stream",
     "text": [
      "15\n"
     ]
    }
   ],
   "source": [
    "addten(10)"
   ]
  },
  {
   "cell_type": "code",
   "execution_count": 21,
   "id": "af0da1a6",
   "metadata": {},
   "outputs": [
    {
     "ename": "TypeError",
     "evalue": "unsupported operand type(s) for +: 'int' and 'str'",
     "output_type": "error",
     "traceback": [
      "\u001b[0;31m---------------------------------------------------------------------------\u001b[0m",
      "\u001b[0;31mTypeError\u001b[0m                                 Traceback (most recent call last)",
      "Cell \u001b[0;32mIn[21], line 1\u001b[0m\n\u001b[0;32m----> 1\u001b[0m addten(\u001b[38;5;124m'\u001b[39m\u001b[38;5;124m7\u001b[39m\u001b[38;5;124m'\u001b[39m)\n",
      "Cell \u001b[0;32mIn[19], line 2\u001b[0m, in \u001b[0;36maddten\u001b[0;34m(y)\u001b[0m\n\u001b[1;32m      1\u001b[0m \u001b[38;5;28;01mdef\u001b[39;00m \u001b[38;5;21maddten\u001b[39m(y):\n\u001b[0;32m----> 2\u001b[0m     \u001b[38;5;28mprint\u001b[39m(\u001b[38;5;241m5\u001b[39m \u001b[38;5;241m+\u001b[39m y)\n",
      "\u001b[0;31mTypeError\u001b[0m: unsupported operand type(s) for +: 'int' and 'str'"
     ]
    }
   ],
   "source": [
    "addten('7')"
   ]
  },
  {
   "cell_type": "code",
   "execution_count": 22,
   "id": "57dc41d8",
   "metadata": {},
   "outputs": [],
   "source": [
    "def greeting():\n",
    "    print(\"Hey There\")"
   ]
  },
  {
   "cell_type": "code",
   "execution_count": 23,
   "id": "aa335bf6",
   "metadata": {},
   "outputs": [
    {
     "name": "stdout",
     "output_type": "stream",
     "text": [
      "Hey There\n"
     ]
    }
   ],
   "source": [
    "greeting()"
   ]
  },
  {
   "cell_type": "code",
   "execution_count": 24,
   "id": "b400f270",
   "metadata": {},
   "outputs": [],
   "source": [
    "def greet(name):\n",
    "    print(\"Hi \" + name + \"!\")"
   ]
  },
  {
   "cell_type": "code",
   "execution_count": 25,
   "id": "752f4145",
   "metadata": {},
   "outputs": [
    {
     "ename": "NameError",
     "evalue": "name 'Lawrence' is not defined",
     "output_type": "error",
     "traceback": [
      "\u001b[0;31m---------------------------------------------------------------------------\u001b[0m",
      "\u001b[0;31mNameError\u001b[0m                                 Traceback (most recent call last)",
      "Cell \u001b[0;32mIn[25], line 1\u001b[0m\n\u001b[0;32m----> 1\u001b[0m greet(Lawrence)\n",
      "\u001b[0;31mNameError\u001b[0m: name 'Lawrence' is not defined"
     ]
    }
   ],
   "source": [
    "greet(Lawrence)"
   ]
  },
  {
   "cell_type": "code",
   "execution_count": 26,
   "id": "597bb4cc",
   "metadata": {},
   "outputs": [
    {
     "name": "stdout",
     "output_type": "stream",
     "text": [
      "Hi Lawrence Again!\n"
     ]
    }
   ],
   "source": [
    "greet(\"Lawrence Again\")"
   ]
  },
  {
   "cell_type": "code",
   "execution_count": 27,
   "id": "5284b1b8",
   "metadata": {},
   "outputs": [],
   "source": [
    "def square(x):\n",
    "    return x * x"
   ]
  },
  {
   "cell_type": "code",
   "execution_count": 28,
   "id": "1335e327",
   "metadata": {},
   "outputs": [
    {
     "data": {
      "text/plain": [
       "25"
      ]
     },
     "execution_count": 28,
     "metadata": {},
     "output_type": "execute_result"
    }
   ],
   "source": [
    "square(5)"
   ]
  },
  {
   "cell_type": "code",
   "execution_count": 29,
   "id": "78c10b1e",
   "metadata": {},
   "outputs": [],
   "source": [
    "result = square(10)"
   ]
  },
  {
   "cell_type": "code",
   "execution_count": 30,
   "id": "d76e7e3d",
   "metadata": {},
   "outputs": [
    {
     "name": "stdout",
     "output_type": "stream",
     "text": [
      "100\n"
     ]
    }
   ],
   "source": [
    "print(result)"
   ]
  },
  {
   "cell_type": "code",
   "execution_count": 31,
   "id": "26a2a59d",
   "metadata": {},
   "outputs": [],
   "source": [
    "anotherone = square(result)"
   ]
  },
  {
   "cell_type": "code",
   "execution_count": 32,
   "id": "c262ea5a",
   "metadata": {},
   "outputs": [
    {
     "name": "stdout",
     "output_type": "stream",
     "text": [
      "10000\n"
     ]
    }
   ],
   "source": [
    "print(anotherone)"
   ]
  },
  {
   "cell_type": "code",
   "execution_count": 33,
   "id": "4d069893",
   "metadata": {},
   "outputs": [],
   "source": [
    "def sumofsquares(x, y):\n",
    "    squareone = x * x\n",
    "    squaretwo = y * y\n",
    "    return square + square2"
   ]
  },
  {
   "cell_type": "code",
   "execution_count": 34,
   "id": "218467c5",
   "metadata": {},
   "outputs": [
    {
     "ename": "NameError",
     "evalue": "name 'sumofsquare' is not defined",
     "output_type": "error",
     "traceback": [
      "\u001b[0;31m---------------------------------------------------------------------------\u001b[0m",
      "\u001b[0;31mNameError\u001b[0m                                 Traceback (most recent call last)",
      "Cell \u001b[0;32mIn[34], line 1\u001b[0m\n\u001b[0;32m----> 1\u001b[0m result \u001b[38;5;241m=\u001b[39m sumofsquare(\u001b[38;5;241m2\u001b[39m, \u001b[38;5;241m3\u001b[39m)\n",
      "\u001b[0;31mNameError\u001b[0m: name 'sumofsquare' is not defined"
     ]
    }
   ],
   "source": [
    "result = sumofsquare(2, 3)"
   ]
  },
  {
   "cell_type": "code",
   "execution_count": 35,
   "id": "c15abc77",
   "metadata": {},
   "outputs": [
    {
     "ename": "NameError",
     "evalue": "name 'square2' is not defined",
     "output_type": "error",
     "traceback": [
      "\u001b[0;31m---------------------------------------------------------------------------\u001b[0m",
      "\u001b[0;31mNameError\u001b[0m                                 Traceback (most recent call last)",
      "Cell \u001b[0;32mIn[35], line 1\u001b[0m\n\u001b[0;32m----> 1\u001b[0m result \u001b[38;5;241m=\u001b[39m sumofsquares(\u001b[38;5;241m2\u001b[39m, \u001b[38;5;241m3\u001b[39m)\n",
      "Cell \u001b[0;32mIn[33], line 4\u001b[0m, in \u001b[0;36msumofsquares\u001b[0;34m(x, y)\u001b[0m\n\u001b[1;32m      2\u001b[0m squareone \u001b[38;5;241m=\u001b[39m x \u001b[38;5;241m*\u001b[39m x\n\u001b[1;32m      3\u001b[0m squaretwo \u001b[38;5;241m=\u001b[39m y \u001b[38;5;241m*\u001b[39m y\n\u001b[0;32m----> 4\u001b[0m \u001b[38;5;28;01mreturn\u001b[39;00m square \u001b[38;5;241m+\u001b[39m square2\n",
      "\u001b[0;31mNameError\u001b[0m: name 'square2' is not defined"
     ]
    }
   ],
   "source": [
    "result = sumofsquares(2, 3)"
   ]
  },
  {
   "cell_type": "code",
   "execution_count": 36,
   "id": "7a3e78b6",
   "metadata": {},
   "outputs": [],
   "source": [
    "def sumofsquares(x, y):\n",
    "    square1 = x * x\n",
    "    square2 = y * y\n",
    "    return square1 + square2"
   ]
  },
  {
   "cell_type": "code",
   "execution_count": 37,
   "id": "02189425",
   "metadata": {},
   "outputs": [
    {
     "ename": "NameError",
     "evalue": "name 'sumodsquare' is not defined",
     "output_type": "error",
     "traceback": [
      "\u001b[0;31m---------------------------------------------------------------------------\u001b[0m",
      "\u001b[0;31mNameError\u001b[0m                                 Traceback (most recent call last)",
      "Cell \u001b[0;32mIn[37], line 1\u001b[0m\n\u001b[0;32m----> 1\u001b[0m result \u001b[38;5;241m=\u001b[39m sumodsquare(\u001b[38;5;241m1\u001b[39m, \u001b[38;5;241m2\u001b[39m)\n",
      "\u001b[0;31mNameError\u001b[0m: name 'sumodsquare' is not defined"
     ]
    }
   ],
   "source": [
    "result = sumodsquare(1, 2)"
   ]
  },
  {
   "cell_type": "code",
   "execution_count": 38,
   "id": "2bc3fb71",
   "metadata": {},
   "outputs": [
    {
     "ename": "NameError",
     "evalue": "name 'sumodsquares' is not defined",
     "output_type": "error",
     "traceback": [
      "\u001b[0;31m---------------------------------------------------------------------------\u001b[0m",
      "\u001b[0;31mNameError\u001b[0m                                 Traceback (most recent call last)",
      "Cell \u001b[0;32mIn[38], line 1\u001b[0m\n\u001b[0;32m----> 1\u001b[0m result \u001b[38;5;241m=\u001b[39m sumodsquares(\u001b[38;5;241m1\u001b[39m, \u001b[38;5;241m2\u001b[39m)\n",
      "\u001b[0;31mNameError\u001b[0m: name 'sumodsquares' is not defined"
     ]
    }
   ],
   "source": [
    "result = sumodsquares(1, 2)"
   ]
  },
  {
   "cell_type": "code",
   "execution_count": 39,
   "id": "09608456",
   "metadata": {},
   "outputs": [],
   "source": [
    "result = sumofsquares(1, 2)"
   ]
  },
  {
   "cell_type": "code",
   "execution_count": 40,
   "id": "1430ff5d",
   "metadata": {},
   "outputs": [
    {
     "name": "stdout",
     "output_type": "stream",
     "text": [
      "5\n"
     ]
    }
   ],
   "source": [
    "print(result)"
   ]
  },
  {
   "cell_type": "code",
   "execution_count": 41,
   "id": "43894757",
   "metadata": {},
   "outputs": [],
   "source": [
    "def sumagain(x, y):\n",
    "    square11 = x \n",
    "    square21 = y \n",
    "    return square11 + square21"
   ]
  },
  {
   "cell_type": "code",
   "execution_count": 42,
   "id": "20dbe89c",
   "metadata": {},
   "outputs": [],
   "source": [
    "resutl = sumagain(1,2)"
   ]
  },
  {
   "cell_type": "code",
   "execution_count": 43,
   "id": "61a7b1a8",
   "metadata": {},
   "outputs": [
    {
     "name": "stdout",
     "output_type": "stream",
     "text": [
      "5\n"
     ]
    }
   ],
   "source": [
    "print(result)"
   ]
  },
  {
   "cell_type": "code",
   "execution_count": 44,
   "id": "6eb99909",
   "metadata": {},
   "outputs": [],
   "source": [
    "result = sumagain(1,2)"
   ]
  },
  {
   "cell_type": "code",
   "execution_count": 45,
   "id": "348dbb69",
   "metadata": {},
   "outputs": [
    {
     "name": "stdout",
     "output_type": "stream",
     "text": [
      "3\n"
     ]
    }
   ],
   "source": [
    "print(result)"
   ]
  },
  {
   "cell_type": "code",
   "execution_count": 46,
   "id": "6ccb7a67",
   "metadata": {},
   "outputs": [],
   "source": [
    "def is_it_raining():\n",
    "    raining = input(\"Is It Raining Today?\")\n",
    "    return raining"
   ]
  },
  {
   "cell_type": "code",
   "execution_count": 47,
   "id": "ad3ae863",
   "metadata": {},
   "outputs": [],
   "source": [
    "raining = (\"yes\")"
   ]
  },
  {
   "cell_type": "code",
   "execution_count": 48,
   "id": "8d9ba34d",
   "metadata": {},
   "outputs": [
    {
     "name": "stdout",
     "output_type": "stream",
     "text": [
      "Is It Raining Today?yes it is\n"
     ]
    }
   ],
   "source": [
    "result = is_it_raining()"
   ]
  },
  {
   "cell_type": "code",
   "execution_count": 49,
   "id": "b3df83be",
   "metadata": {},
   "outputs": [
    {
     "name": "stdout",
     "output_type": "stream",
     "text": [
      "yes it is\n"
     ]
    }
   ],
   "source": [
    "print(result)"
   ]
  },
  {
   "cell_type": "code",
   "execution_count": 50,
   "id": "8bc459b8",
   "metadata": {},
   "outputs": [],
   "source": [
    "import calendar"
   ]
  },
  {
   "cell_type": "code",
   "execution_count": 51,
   "id": "228153fa",
   "metadata": {},
   "outputs": [],
   "source": [
    "cal= calendar.month(2023, 9)"
   ]
  },
  {
   "cell_type": "code",
   "execution_count": 52,
   "id": "2589bffb",
   "metadata": {},
   "outputs": [
    {
     "name": "stdout",
     "output_type": "stream",
     "text": [
      "   September 2023\n",
      "Mo Tu We Th Fr Sa Su\n",
      "             1  2  3\n",
      " 4  5  6  7  8  9 10\n",
      "11 12 13 14 15 16 17\n",
      "18 19 20 21 22 23 24\n",
      "25 26 27 28 29 30\n",
      "\n"
     ]
    }
   ],
   "source": [
    "print(cal)"
   ]
  },
  {
   "cell_type": "code",
   "execution_count": 53,
   "id": "de89edd7",
   "metadata": {},
   "outputs": [],
   "source": [
    "import math"
   ]
  },
  {
   "cell_type": "code",
   "execution_count": 54,
   "id": "262fa8ad",
   "metadata": {},
   "outputs": [],
   "source": [
    "result = math.sqrt(49)"
   ]
  },
  {
   "cell_type": "code",
   "execution_count": 55,
   "id": "26ed6608",
   "metadata": {},
   "outputs": [
    {
     "name": "stdout",
     "output_type": "stream",
     "text": [
      "7.0\n"
     ]
    }
   ],
   "source": [
    "print(result)"
   ]
  },
  {
   "cell_type": "code",
   "execution_count": 56,
   "id": "ed6e8ed9",
   "metadata": {},
   "outputs": [],
   "source": [
    "import random"
   ]
  },
  {
   "cell_type": "code",
   "execution_count": 57,
   "id": "99f5b344",
   "metadata": {},
   "outputs": [
    {
     "ename": "AttributeError",
     "evalue": "module 'random' has no attribute 'randomnumber'",
     "output_type": "error",
     "traceback": [
      "\u001b[0;31m---------------------------------------------------------------------------\u001b[0m",
      "\u001b[0;31mAttributeError\u001b[0m                            Traceback (most recent call last)",
      "Cell \u001b[0;32mIn[57], line 1\u001b[0m\n\u001b[0;32m----> 1\u001b[0m number \u001b[38;5;241m=\u001b[39m random\u001b[38;5;241m.\u001b[39mrandomnumber(\u001b[38;5;241m1\u001b[39m,\u001b[38;5;241m100\u001b[39m)\n",
      "\u001b[0;31mAttributeError\u001b[0m: module 'random' has no attribute 'randomnumber'"
     ]
    }
   ],
   "source": [
    "number = random.randomnumber(1,100)"
   ]
  },
  {
   "cell_type": "code",
   "execution_count": 58,
   "id": "6408c0a4",
   "metadata": {},
   "outputs": [
    {
     "ename": "AttributeError",
     "evalue": "module 'random' has no attribute 'randomnumber'",
     "output_type": "error",
     "traceback": [
      "\u001b[0;31m---------------------------------------------------------------------------\u001b[0m",
      "\u001b[0;31mAttributeError\u001b[0m                            Traceback (most recent call last)",
      "Cell \u001b[0;32mIn[58], line 1\u001b[0m\n\u001b[0;32m----> 1\u001b[0m number \u001b[38;5;241m=\u001b[39m random\u001b[38;5;241m.\u001b[39mrandomnumber(\u001b[38;5;241m1\u001b[39m, \u001b[38;5;241m100\u001b[39m)\n",
      "\u001b[0;31mAttributeError\u001b[0m: module 'random' has no attribute 'randomnumber'"
     ]
    }
   ],
   "source": [
    "number = random.randomnumber(1, 100)"
   ]
  },
  {
   "cell_type": "code",
   "execution_count": 59,
   "id": "0f876c74",
   "metadata": {},
   "outputs": [
    {
     "ename": "AttributeError",
     "evalue": "module 'random' has no attribute 'rannumber'",
     "output_type": "error",
     "traceback": [
      "\u001b[0;31m---------------------------------------------------------------------------\u001b[0m",
      "\u001b[0;31mAttributeError\u001b[0m                            Traceback (most recent call last)",
      "Cell \u001b[0;32mIn[59], line 1\u001b[0m\n\u001b[0;32m----> 1\u001b[0m number \u001b[38;5;241m=\u001b[39m random\u001b[38;5;241m.\u001b[39mrannumber(\u001b[38;5;241m1\u001b[39m, \u001b[38;5;241m100\u001b[39m)\n",
      "\u001b[0;31mAttributeError\u001b[0m: module 'random' has no attribute 'rannumber'"
     ]
    }
   ],
   "source": [
    "number = random.rannumber(1, 100)"
   ]
  },
  {
   "cell_type": "code",
   "execution_count": 60,
   "id": "2809d0f1",
   "metadata": {},
   "outputs": [],
   "source": [
    "import random"
   ]
  },
  {
   "cell_type": "code",
   "execution_count": 61,
   "id": "38eec2dc",
   "metadata": {},
   "outputs": [
    {
     "ename": "AttributeError",
     "evalue": "module 'random' has no attribute 'ranint'",
     "output_type": "error",
     "traceback": [
      "\u001b[0;31m---------------------------------------------------------------------------\u001b[0m",
      "\u001b[0;31mAttributeError\u001b[0m                            Traceback (most recent call last)",
      "Cell \u001b[0;32mIn[61], line 1\u001b[0m\n\u001b[0;32m----> 1\u001b[0m number \u001b[38;5;241m=\u001b[39m random\u001b[38;5;241m.\u001b[39mranint(\u001b[38;5;241m1\u001b[39m, \u001b[38;5;241m100\u001b[39m)\n",
      "\u001b[0;31mAttributeError\u001b[0m: module 'random' has no attribute 'ranint'"
     ]
    }
   ],
   "source": [
    "number = random.ranint(1, 100)"
   ]
  },
  {
   "cell_type": "code",
   "execution_count": 62,
   "id": "10c6f04a",
   "metadata": {},
   "outputs": [],
   "source": [
    "number = random.randint(1, 100)"
   ]
  },
  {
   "cell_type": "code",
   "execution_count": 63,
   "id": "92d3e2bc",
   "metadata": {},
   "outputs": [
    {
     "name": "stdout",
     "output_type": "stream",
     "text": [
      "9\n"
     ]
    }
   ],
   "source": [
    "print(number)"
   ]
  },
  {
   "cell_type": "code",
   "execution_count": 64,
   "id": "4ed652f2",
   "metadata": {},
   "outputs": [
    {
     "name": "stdout",
     "output_type": "stream",
     "text": [
      "9\n"
     ]
    }
   ],
   "source": [
    "print(number)"
   ]
  },
  {
   "cell_type": "code",
   "execution_count": 65,
   "id": "d04f01cd",
   "metadata": {},
   "outputs": [],
   "source": [
    "numbers = [1,2,3,111,333,444,6,7777,0]"
   ]
  },
  {
   "cell_type": "code",
   "execution_count": 66,
   "id": "8dcfd6af",
   "metadata": {},
   "outputs": [],
   "source": [
    "whichone = random.choice(numbers)"
   ]
  },
  {
   "cell_type": "code",
   "execution_count": 67,
   "id": "dd4f4df0",
   "metadata": {},
   "outputs": [
    {
     "name": "stdout",
     "output_type": "stream",
     "text": [
      "111\n"
     ]
    }
   ],
   "source": [
    "print(whichone)"
   ]
  },
  {
   "cell_type": "code",
   "execution_count": 68,
   "id": "74e52f06",
   "metadata": {},
   "outputs": [
    {
     "name": "stdout",
     "output_type": "stream",
     "text": [
      "111\n"
     ]
    }
   ],
   "source": [
    "print(whichone)"
   ]
  },
  {
   "cell_type": "code",
   "execution_count": 69,
   "id": "89708a24",
   "metadata": {},
   "outputs": [
    {
     "name": "stdout",
     "output_type": "stream",
     "text": [
      "111\n"
     ]
    }
   ],
   "source": [
    "print(whichone)"
   ]
  },
  {
   "cell_type": "code",
   "execution_count": 70,
   "id": "882265e8",
   "metadata": {},
   "outputs": [
    {
     "ename": "TypeError",
     "evalue": "object of type 'int' has no len()",
     "output_type": "error",
     "traceback": [
      "\u001b[0;31m---------------------------------------------------------------------------\u001b[0m",
      "\u001b[0;31mTypeError\u001b[0m                                 Traceback (most recent call last)",
      "Cell \u001b[0;32mIn[70], line 1\u001b[0m\n\u001b[0;32m----> 1\u001b[0m random\u001b[38;5;241m.\u001b[39mshuffle(whichone)\n",
      "File \u001b[0;32m~/anaconda3/lib/python3.11/random.py:380\u001b[0m, in \u001b[0;36mRandom.shuffle\u001b[0;34m(self, x)\u001b[0m\n\u001b[1;32m    377\u001b[0m \u001b[38;5;250m\u001b[39m\u001b[38;5;124;03m\"\"\"Shuffle list x in place, and return None.\"\"\"\u001b[39;00m\n\u001b[1;32m    379\u001b[0m randbelow \u001b[38;5;241m=\u001b[39m \u001b[38;5;28mself\u001b[39m\u001b[38;5;241m.\u001b[39m_randbelow\n\u001b[0;32m--> 380\u001b[0m \u001b[38;5;28;01mfor\u001b[39;00m i \u001b[38;5;129;01min\u001b[39;00m \u001b[38;5;28mreversed\u001b[39m(\u001b[38;5;28mrange\u001b[39m(\u001b[38;5;241m1\u001b[39m, \u001b[38;5;28mlen\u001b[39m(x))):\n\u001b[1;32m    381\u001b[0m     \u001b[38;5;66;03m# pick an element in x[:i+1] with which to exchange x[i]\u001b[39;00m\n\u001b[1;32m    382\u001b[0m     j \u001b[38;5;241m=\u001b[39m randbelow(i \u001b[38;5;241m+\u001b[39m \u001b[38;5;241m1\u001b[39m)\n\u001b[1;32m    383\u001b[0m     x[i], x[j] \u001b[38;5;241m=\u001b[39m x[j], x[i]\n",
      "\u001b[0;31mTypeError\u001b[0m: object of type 'int' has no len()"
     ]
    }
   ],
   "source": [
    "random.shuffle(whichone)"
   ]
  },
  {
   "cell_type": "code",
   "execution_count": 71,
   "id": "ab48c0cf",
   "metadata": {},
   "outputs": [],
   "source": [
    "letter = ['a','b','c','d']"
   ]
  },
  {
   "cell_type": "code",
   "execution_count": 72,
   "id": "4ac24ece",
   "metadata": {},
   "outputs": [],
   "source": [
    "random.shuffle(letter)"
   ]
  },
  {
   "cell_type": "code",
   "execution_count": 73,
   "id": "1264418e",
   "metadata": {},
   "outputs": [
    {
     "name": "stdout",
     "output_type": "stream",
     "text": [
      "['b', 'd', 'a', 'c']\n"
     ]
    }
   ],
   "source": [
    "print(letter)"
   ]
  },
  {
   "cell_type": "code",
   "execution_count": 74,
   "id": "ec5a58ee",
   "metadata": {},
   "outputs": [],
   "source": [
    "n = 5"
   ]
  },
  {
   "cell_type": "code",
   "execution_count": 75,
   "id": "9725c13c",
   "metadata": {},
   "outputs": [
    {
     "name": "stdout",
     "output_type": "stream",
     "text": [
      "5\n"
     ]
    }
   ],
   "source": [
    "print(n)"
   ]
  },
  {
   "cell_type": "code",
   "execution_count": 76,
   "id": "56648db4",
   "metadata": {},
   "outputs": [],
   "source": [
    "listA = [5, 10, 15, 20]"
   ]
  },
  {
   "cell_type": "code",
   "execution_count": 77,
   "id": "2c5702fd",
   "metadata": {},
   "outputs": [
    {
     "name": "stdout",
     "output_type": "stream",
     "text": [
      "[5, 10, 15, 20]\n"
     ]
    }
   ],
   "source": [
    "print(listA)"
   ]
  },
  {
   "cell_type": "code",
   "execution_count": 78,
   "id": "f75e42cf",
   "metadata": {},
   "outputs": [
    {
     "data": {
      "text/plain": [
       "list"
      ]
     },
     "execution_count": 78,
     "metadata": {},
     "output_type": "execute_result"
    }
   ],
   "source": [
    "type(listA)"
   ]
  },
  {
   "cell_type": "code",
   "execution_count": 79,
   "id": "079c3cba",
   "metadata": {},
   "outputs": [
    {
     "name": "stdout",
     "output_type": "stream",
     "text": [
      "15\n"
     ]
    }
   ],
   "source": [
    "print(listA[2])"
   ]
  },
  {
   "cell_type": "code",
   "execution_count": 80,
   "id": "6b52ebcb",
   "metadata": {},
   "outputs": [],
   "source": [
    "listA[2] = 150"
   ]
  },
  {
   "cell_type": "code",
   "execution_count": 81,
   "id": "692d7404",
   "metadata": {},
   "outputs": [
    {
     "name": "stdout",
     "output_type": "stream",
     "text": [
      "150\n"
     ]
    }
   ],
   "source": [
    "print(listA[2])"
   ]
  },
  {
   "cell_type": "code",
   "execution_count": 82,
   "id": "929923de",
   "metadata": {},
   "outputs": [
    {
     "name": "stdout",
     "output_type": "stream",
     "text": [
      "[5, 10, 150, 20]\n"
     ]
    }
   ],
   "source": [
    "print(listA)"
   ]
  },
  {
   "cell_type": "code",
   "execution_count": 83,
   "id": "b95ef26a",
   "metadata": {},
   "outputs": [],
   "source": [
    "listB = [True, \"Star\", 50, 333.3]"
   ]
  },
  {
   "cell_type": "code",
   "execution_count": 84,
   "id": "eb02f51a",
   "metadata": {},
   "outputs": [
    {
     "ename": "TypeError",
     "evalue": "list indices must be integers or slices, not type",
     "output_type": "error",
     "traceback": [
      "\u001b[0;31m---------------------------------------------------------------------------\u001b[0m",
      "\u001b[0;31mTypeError\u001b[0m                                 Traceback (most recent call last)",
      "Cell \u001b[0;32mIn[84], line 1\u001b[0m\n\u001b[0;32m----> 1\u001b[0m \u001b[38;5;28mprint\u001b[39m(listB[\u001b[38;5;28mint\u001b[39m])\n",
      "\u001b[0;31mTypeError\u001b[0m: list indices must be integers or slices, not type"
     ]
    }
   ],
   "source": [
    "print(listB[int])"
   ]
  },
  {
   "cell_type": "code",
   "execution_count": 1,
   "id": "3ab87932",
   "metadata": {},
   "outputs": [],
   "source": [
    "child1_birth = (\"Julia\", \n",
    "                \"Lucile Packard Children's Hospital\", \"Stanford\", \"California\", \"United States\", \n",
    "                \"07/29/2019\", \"09:42\")"
   ]
  },
  {
   "cell_type": "code",
   "execution_count": 2,
   "id": "778ddb29",
   "metadata": {},
   "outputs": [],
   "source": [
    "child2_birth = (\"Austin\",\n",
    "               \"Washington Hospital\", \"Fremont\", \"California\", \"United States\",\n",
    "               \"07/28/2019\", \"16:25\")"
   ]
  },
  {
   "cell_type": "code",
   "execution_count": 3,
   "id": "b9c9ca3c",
   "metadata": {},
   "outputs": [
    {
     "data": {
      "text/plain": [
       "tuple"
      ]
     },
     "execution_count": 3,
     "metadata": {},
     "output_type": "execute_result"
    }
   ],
   "source": [
    "type(child1_birth)"
   ]
  },
  {
   "cell_type": "code",
   "execution_count": 4,
   "id": "e2dd088b",
   "metadata": {},
   "outputs": [
    {
     "name": "stdout",
     "output_type": "stream",
     "text": [
      "('Julia', \"Lucile Packard Children's Hospital\", 'Stanford', 'California', 'United States', '07/29/2019', '09:42')\n"
     ]
    }
   ],
   "source": [
    "print(child1_birth)"
   ]
  },
  {
   "cell_type": "code",
   "execution_count": 5,
   "id": "03b8fdfd",
   "metadata": {},
   "outputs": [
    {
     "ename": "NameError",
     "evalue": "name 'child1_name' is not defined",
     "output_type": "error",
     "traceback": [
      "\u001b[0;31m---------------------------------------------------------------------------\u001b[0m",
      "\u001b[0;31mNameError\u001b[0m                                 Traceback (most recent call last)",
      "Cell \u001b[0;32mIn[5], line 1\u001b[0m\n\u001b[0;32m----> 1\u001b[0m \u001b[38;5;28mprint\u001b[39m(child1_name[\u001b[38;5;241m0\u001b[39m])\n",
      "\u001b[0;31mNameError\u001b[0m: name 'child1_name' is not defined"
     ]
    }
   ],
   "source": [
    "print(child1_name[0])"
   ]
  },
  {
   "cell_type": "code",
   "execution_count": 6,
   "id": "9ba56693",
   "metadata": {},
   "outputs": [
    {
     "name": "stdout",
     "output_type": "stream",
     "text": [
      "Julia\n"
     ]
    }
   ],
   "source": [
    "print(child1_birth[0])"
   ]
  },
  {
   "cell_type": "code",
   "execution_count": 7,
   "id": "b9808993",
   "metadata": {},
   "outputs": [
    {
     "name": "stdout",
     "output_type": "stream",
     "text": [
      "Is it raining? (yes/no)yes\n",
      "You need an umbrella!\n"
     ]
    }
   ],
   "source": [
    "raining = input(\"Is it raining? (yes/no)\")\n",
    "if raining == \"yes\":\n",
    "    print(\"You need an umbrella!\")\n",
    "    "
   ]
  },
  {
   "cell_type": "code",
   "execution_count": 8,
   "id": "c5408dba",
   "metadata": {},
   "outputs": [
    {
     "name": "stdout",
     "output_type": "stream",
     "text": [
      "yes\n"
     ]
    }
   ],
   "source": [
    "print(raining)"
   ]
  },
  {
   "cell_type": "code",
   "execution_count": 9,
   "id": "a4d769e9",
   "metadata": {},
   "outputs": [
    {
     "name": "stdout",
     "output_type": "stream",
     "text": [
      "Choose an int between -10 and 10 and enter it here: 1\n"
     ]
    }
   ],
   "source": [
    "n = input(\"Choose an int between -10 and 10 and enter it here: \")\n",
    "n = int(n)"
   ]
  },
  {
   "cell_type": "code",
   "execution_count": 11,
   "id": "b1a8c7da",
   "metadata": {},
   "outputs": [
    {
     "name": "stdout",
     "output_type": "stream",
     "text": [
      "Choose an int between -10 and 10 and enter it here: 1\n",
      "The int you chose is less than 5\n"
     ]
    }
   ],
   "source": [
    "n = input(\"Choose an int between -10 and 10 and enter it here: \")\n",
    "n = int(n)\n",
    "if n < 5:\n",
    "    print(\"The int you chose is less than 5\")"
   ]
  },
  {
   "cell_type": "code",
   "execution_count": 12,
   "id": "2b16da04",
   "metadata": {},
   "outputs": [],
   "source": [
    "def minimum(x,y):\n",
    "    if x<y:\n",
    "        return x\n",
    "    else:\n",
    "        return y"
   ]
  },
  {
   "cell_type": "code",
   "execution_count": 13,
   "id": "5f191deb",
   "metadata": {},
   "outputs": [
    {
     "ename": "NameError",
     "evalue": "name 'mimimum' is not defined",
     "output_type": "error",
     "traceback": [
      "\u001b[0;31m---------------------------------------------------------------------------\u001b[0m",
      "\u001b[0;31mNameError\u001b[0m                                 Traceback (most recent call last)",
      "Cell \u001b[0;32mIn[13], line 1\u001b[0m\n\u001b[0;32m----> 1\u001b[0m result \u001b[38;5;241m=\u001b[39m mimimum (\u001b[38;5;241m2\u001b[39m,\u001b[38;5;241m5\u001b[39m)\n\u001b[1;32m      2\u001b[0m \u001b[38;5;28mprint\u001b[39m (result)\n",
      "\u001b[0;31mNameError\u001b[0m: name 'mimimum' is not defined"
     ]
    }
   ],
   "source": [
    "result = minimum (2,5)\n",
    "print (result)"
   ]
  },
  {
   "cell_type": "code",
   "execution_count": 14,
   "id": "5be6d7c7",
   "metadata": {},
   "outputs": [
    {
     "name": "stdout",
     "output_type": "stream",
     "text": [
      "2\n"
     ]
    }
   ],
   "source": [
    "result = minimum (2,5)\n",
    "print (result)"
   ]
  },
  {
   "cell_type": "code",
   "execution_count": 15,
   "id": "24ee4a67",
   "metadata": {},
   "outputs": [
    {
     "name": "stdout",
     "output_type": "stream",
     "text": [
      "5\n"
     ]
    }
   ],
   "source": [
    "result = minimum (7,5)\n",
    "print (result)"
   ]
  },
  {
   "cell_type": "code",
   "execution_count": 16,
   "id": "8a419ea0",
   "metadata": {},
   "outputs": [
    {
     "ename": "SyntaxError",
     "evalue": "expected ':' (2859335475.py, line 3)",
     "output_type": "error",
     "traceback": [
      "\u001b[0;36m  Cell \u001b[0;32mIn[16], line 3\u001b[0;36m\u001b[0m\n\u001b[0;31m    if raining == \"yes\" and umbrella  == \"yes\"\u001b[0m\n\u001b[0m                                              ^\u001b[0m\n\u001b[0;31mSyntaxError\u001b[0m\u001b[0;31m:\u001b[0m expected ':'\n"
     ]
    }
   ],
   "source": [
    "raining = input(\"is it raining (yes/no)\")\n",
    "umbrella = inpur(\"Do you have an umbella? (yes/no)\")\n",
    "if raining == \"yes\" and umbrella  == \"yes\"\n",
    "    print(\"Dont forget your umbrella\")\n",
    "elif raining == \"yes\" and umbrella == \"no\":\n",
    "    print(\"Wear a jacket\")"
   ]
  },
  {
   "cell_type": "code",
   "execution_count": 17,
   "id": "88b13264",
   "metadata": {},
   "outputs": [
    {
     "name": "stdout",
     "output_type": "stream",
     "text": [
      "is it raining (yes/no)yes\n"
     ]
    },
    {
     "ename": "NameError",
     "evalue": "name 'inpur' is not defined",
     "output_type": "error",
     "traceback": [
      "\u001b[0;31m---------------------------------------------------------------------------\u001b[0m",
      "\u001b[0;31mNameError\u001b[0m                                 Traceback (most recent call last)",
      "Cell \u001b[0;32mIn[17], line 2\u001b[0m\n\u001b[1;32m      1\u001b[0m raining \u001b[38;5;241m=\u001b[39m \u001b[38;5;28minput\u001b[39m(\u001b[38;5;124m\"\u001b[39m\u001b[38;5;124mis it raining (yes/no)\u001b[39m\u001b[38;5;124m\"\u001b[39m)\n\u001b[0;32m----> 2\u001b[0m umbrella \u001b[38;5;241m=\u001b[39m inpur(\u001b[38;5;124m\"\u001b[39m\u001b[38;5;124mDo you have an umbella? (yes/no)\u001b[39m\u001b[38;5;124m\"\u001b[39m)\n\u001b[1;32m      3\u001b[0m \u001b[38;5;28;01mif\u001b[39;00m raining \u001b[38;5;241m==\u001b[39m \u001b[38;5;124m\"\u001b[39m\u001b[38;5;124myes\u001b[39m\u001b[38;5;124m\"\u001b[39m \u001b[38;5;129;01mand\u001b[39;00m umbrella  \u001b[38;5;241m==\u001b[39m \u001b[38;5;124m\"\u001b[39m\u001b[38;5;124myes\u001b[39m\u001b[38;5;124m\"\u001b[39m:\n\u001b[1;32m      4\u001b[0m     \u001b[38;5;28mprint\u001b[39m(\u001b[38;5;124m\"\u001b[39m\u001b[38;5;124mDont forget your umbrella\u001b[39m\u001b[38;5;124m\"\u001b[39m)\n",
      "\u001b[0;31mNameError\u001b[0m: name 'inpur' is not defined"
     ]
    }
   ],
   "source": [
    "raining = input(\"is it raining (yes/no)\")\n",
    "umbrella = inpur(\"Do you have an umbella? (yes/no)\")\n",
    "if raining == \"yes\" and umbrella  == \"yes\":\n",
    "    print(\"Dont forget your umbrella\")\n",
    "elif raining == \"yes\" and umbrella == \"no\":\n",
    "    print(\"Wear a jacket\")"
   ]
  },
  {
   "cell_type": "code",
   "execution_count": 18,
   "id": "5c55505c",
   "metadata": {},
   "outputs": [
    {
     "name": "stdout",
     "output_type": "stream",
     "text": [
      "is it raining (yes/no)yes\n",
      "Do you have an umbella? (yes/no)no\n",
      "Wear a jacket\n"
     ]
    }
   ],
   "source": [
    "raining = input(\"is it raining (yes/no)\")\n",
    "umbrella = input(\"Do you have an umbella? (yes/no)\")\n",
    "if raining == \"yes\" and umbrella  == \"yes\":\n",
    "    print(\"Dont forget your umbrella\")\n",
    "elif raining == \"yes\" and umbrella == \"no\":\n",
    "    print(\"Wear a jacket\")"
   ]
  },
  {
   "cell_type": "code",
   "execution_count": 19,
   "id": "09c9fa82",
   "metadata": {},
   "outputs": [
    {
     "ename": "NameError",
     "evalue": "name 'x' is not defined",
     "output_type": "error",
     "traceback": [
      "\u001b[0;31m---------------------------------------------------------------------------\u001b[0m",
      "\u001b[0;31mNameError\u001b[0m                                 Traceback (most recent call last)",
      "Cell \u001b[0;32mIn[19], line 1\u001b[0m\n\u001b[0;32m----> 1\u001b[0m x \u001b[38;5;241m+\u001b[39m \u001b[38;5;28minput\u001b[39m(\u001b[38;5;124m\"\u001b[39m\u001b[38;5;124mEnter a number here: \u001b[39m\u001b[38;5;124m\"\u001b[39m)\n\u001b[1;32m      2\u001b[0m x \u001b[38;5;241m=\u001b[39m \u001b[38;5;28mfloat\u001b[39m(x)\n\u001b[1;32m      3\u001b[0m \u001b[38;5;28;01mif\u001b[39;00m x \u001b[38;5;241m<\u001b[39m \u001b[38;5;241m2\u001b[39m:\n",
      "\u001b[0;31mNameError\u001b[0m: name 'x' is not defined"
     ]
    }
   ],
   "source": [
    "x + input(\"Enter a number here: \")\n",
    "x = float(x)\n",
    "if x < 2:\n",
    "    print(\"The number is less than 2.\")\n",
    "elif x < 6:\n",
    "    print(\"The number is less then 6.\")\n",
    "elif x < 8:\n",
    "    print(\"The number is less than 8.\")\n",
    "elif x >= 9:\n",
    "    print(\"big number\")"
   ]
  },
  {
   "cell_type": "code",
   "execution_count": 20,
   "id": "7909c4af",
   "metadata": {},
   "outputs": [
    {
     "name": "stdout",
     "output_type": "stream",
     "text": [
      "Enter a number here: 3\n",
      "The number is less then 6.\n"
     ]
    }
   ],
   "source": [
    "x = input(\"Enter a number here: \")\n",
    "x = float(x)\n",
    "if x < 2:\n",
    "    print(\"The number is less than 2.\")\n",
    "elif x < 6:\n",
    "    print(\"The number is less then 6.\")\n",
    "elif x < 8:\n",
    "    print(\"The number is less than 8.\")\n",
    "elif x >= 9:\n",
    "    print(\"big number\")"
   ]
  },
  {
   "cell_type": "code",
   "execution_count": 21,
   "id": "78f9ab1e",
   "metadata": {},
   "outputs": [
    {
     "name": "stdout",
     "output_type": "stream",
     "text": [
      "Enter a number here: 10\n"
     ]
    },
    {
     "ename": "TypeError",
     "evalue": "unsupported operand type(s) for +: 'float' and 'str'",
     "output_type": "error",
     "traceback": [
      "\u001b[0;31m---------------------------------------------------------------------------\u001b[0m",
      "\u001b[0;31mTypeError\u001b[0m                                 Traceback (most recent call last)",
      "Cell \u001b[0;32mIn[21], line 1\u001b[0m\n\u001b[0;32m----> 1\u001b[0m x \u001b[38;5;241m+\u001b[39m \u001b[38;5;28minput\u001b[39m(\u001b[38;5;124m\"\u001b[39m\u001b[38;5;124mEnter a number here: \u001b[39m\u001b[38;5;124m\"\u001b[39m)\n\u001b[1;32m      2\u001b[0m x \u001b[38;5;241m=\u001b[39m \u001b[38;5;28mfloat\u001b[39m(x)\n\u001b[1;32m      3\u001b[0m \u001b[38;5;28;01mif\u001b[39;00m x \u001b[38;5;241m<\u001b[39m \u001b[38;5;241m2\u001b[39m:\n",
      "\u001b[0;31mTypeError\u001b[0m: unsupported operand type(s) for +: 'float' and 'str'"
     ]
    }
   ],
   "source": [
    "x + input(\"Enter a number here: \")\n",
    "x = float(x)\n",
    "if x < 2:\n",
    "    print(\"The number is less than 2.\")\n",
    "elif x < 6:\n",
    "    print(\"The number is less then 6.\")\n",
    "elif x < 8:\n",
    "    print(\"The number is less than 8.\")\n",
    "elif x >= 9:\n",
    "    print(\"big number\")"
   ]
  },
  {
   "cell_type": "code",
   "execution_count": 22,
   "id": "ff9a8639",
   "metadata": {},
   "outputs": [
    {
     "ename": "SyntaxError",
     "evalue": "invalid syntax (192402784.py, line 9)",
     "output_type": "error",
     "traceback": [
      "\u001b[0;36m  Cell \u001b[0;32mIn[22], line 9\u001b[0;36m\u001b[0m\n\u001b[0;31m    elif x => 9:\u001b[0m\n\u001b[0m           ^\u001b[0m\n\u001b[0;31mSyntaxError\u001b[0m\u001b[0;31m:\u001b[0m invalid syntax\n"
     ]
    }
   ],
   "source": [
    "x + input(\"Enter a number here: \")\n",
    "x = float(x)\n",
    "if x < 2:\n",
    "    print(\"The number is less than 2.\")\n",
    "elif x < 6:\n",
    "    print(\"The number is less then 6.\")\n",
    "elif x < 8:\n",
    "    print(\"The number is less than 8.\")\n",
    "elif x => 9:\n",
    "    print(\"big num\n",
    "          ber\")"
   ]
  },
  {
   "cell_type": "code",
   "execution_count": 23,
   "id": "0566be03",
   "metadata": {},
   "outputs": [
    {
     "name": "stdout",
     "output_type": "stream",
     "text": [
      "Enter a number here: 8\n"
     ]
    },
    {
     "ename": "TypeError",
     "evalue": "unsupported operand type(s) for +: 'float' and 'str'",
     "output_type": "error",
     "traceback": [
      "\u001b[0;31m---------------------------------------------------------------------------\u001b[0m",
      "\u001b[0;31mTypeError\u001b[0m                                 Traceback (most recent call last)",
      "Cell \u001b[0;32mIn[23], line 1\u001b[0m\n\u001b[0;32m----> 1\u001b[0m x \u001b[38;5;241m+\u001b[39m \u001b[38;5;28minput\u001b[39m(\u001b[38;5;124m\"\u001b[39m\u001b[38;5;124mEnter a number here: \u001b[39m\u001b[38;5;124m\"\u001b[39m)\n\u001b[1;32m      2\u001b[0m x \u001b[38;5;241m=\u001b[39m \u001b[38;5;28mfloat\u001b[39m(x)\n\u001b[1;32m      3\u001b[0m \u001b[38;5;28;01mif\u001b[39;00m x \u001b[38;5;241m<\u001b[39m \u001b[38;5;241m2\u001b[39m:\n",
      "\u001b[0;31mTypeError\u001b[0m: unsupported operand type(s) for +: 'float' and 'str'"
     ]
    }
   ],
   "source": [
    "x + input(\"Enter a number here: \")\n",
    "x = float(x)\n",
    "if x < 2:\n",
    "    print(\"The number is less than 2.\")\n",
    "elif x < 6:\n",
    "    print(\"The number is less then 6.\")\n",
    "elif x < 8:\n",
    "    print(\"The number is less than 8.\")\n",
    "elif x >= 9:\n",
    "    print(\"big number\")"
   ]
  },
  {
   "cell_type": "code",
   "execution_count": 24,
   "id": "4e285653",
   "metadata": {},
   "outputs": [
    {
     "name": "stdout",
     "output_type": "stream",
     "text": [
      "Enter a number here: 8\n"
     ]
    },
    {
     "ename": "TypeError",
     "evalue": "unsupported operand type(s) for +: 'float' and 'str'",
     "output_type": "error",
     "traceback": [
      "\u001b[0;31m---------------------------------------------------------------------------\u001b[0m",
      "\u001b[0;31mTypeError\u001b[0m                                 Traceback (most recent call last)",
      "Cell \u001b[0;32mIn[24], line 1\u001b[0m\n\u001b[0;32m----> 1\u001b[0m x \u001b[38;5;241m+\u001b[39m \u001b[38;5;28minput\u001b[39m(\u001b[38;5;124m\"\u001b[39m\u001b[38;5;124mEnter a number here: \u001b[39m\u001b[38;5;124m\"\u001b[39m)\n\u001b[1;32m      2\u001b[0m x \u001b[38;5;241m=\u001b[39m \u001b[38;5;28mfloat\u001b[39m(x)\n\u001b[1;32m      3\u001b[0m \u001b[38;5;28;01mif\u001b[39;00m x \u001b[38;5;241m<\u001b[39m \u001b[38;5;241m2\u001b[39m:\n",
      "\u001b[0;31mTypeError\u001b[0m: unsupported operand type(s) for +: 'float' and 'str'"
     ]
    }
   ],
   "source": [
    "x + input(\"Enter a number here: \")\n",
    "x = float(x)\n",
    "if x < 2:\n",
    "    print(\"The number is less than 2.\")\n",
    "elif x < 6:\n",
    "    print(\"The number is less then 6.\")\n",
    "elif x < 8:\n",
    "    print(\"The number is less than 8.\")\n"
   ]
  },
  {
   "cell_type": "code",
   "execution_count": 25,
   "id": "4af083f0",
   "metadata": {},
   "outputs": [
    {
     "name": "stdout",
     "output_type": "stream",
     "text": [
      "Enter a number here: 8\n"
     ]
    }
   ],
   "source": [
    "x = input(\"Enter a number here: \")\n",
    "x = float(x)\n",
    "if x < 2:\n",
    "    print(\"The number is less than 2.\")\n",
    "elif x < 6:\n",
    "    print(\"The number is less then 6.\")\n",
    "elif x < 8:\n",
    "    print(\"The number is less than 8.\")\n",
    "elif x >= 9:\n",
    "    print(\"big number\")"
   ]
  },
  {
   "cell_type": "code",
   "execution_count": 26,
   "id": "43c8686d",
   "metadata": {},
   "outputs": [
    {
     "name": "stdout",
     "output_type": "stream",
     "text": [
      "Enter a number here: 6\n",
      "The number is less than 8.\n"
     ]
    }
   ],
   "source": [
    "x = input(\"Enter a number here: \")\n",
    "x = float(x)\n",
    "if x < 2:\n",
    "    print(\"The number is less than 2.\")\n",
    "elif x < 6:\n",
    "    print(\"The number is less then 6.\")\n",
    "elif x < 8:\n",
    "    print(\"The number is less than 8.\")\n",
    "elif x >= 9:\n",
    "    print(\"big number\")"
   ]
  },
  {
   "cell_type": "code",
   "execution_count": 27,
   "id": "5917f751",
   "metadata": {},
   "outputs": [
    {
     "name": "stdout",
     "output_type": "stream",
     "text": [
      "Enter a number here: 10\n",
      "big number\n"
     ]
    }
   ],
   "source": [
    "x = input(\"Enter a number here: \")\n",
    "x = float(x)\n",
    "if x < 2:\n",
    "    print(\"The number is less than 2.\")\n",
    "elif x < 6:\n",
    "    print(\"The number is less then 6.\")\n",
    "elif x < 8:\n",
    "    print(\"The number is less than 8.\")\n",
    "elif x >= 9:\n",
    "    print(\"big number\")"
   ]
  },
  {
   "cell_type": "code",
   "execution_count": 28,
   "id": "d8a8098e",
   "metadata": {
    "scrolled": true
   },
   "outputs": [
    {
     "name": "stdout",
     "output_type": "stream",
     "text": [
      "1\n"
     ]
    }
   ],
   "source": [
    "x = 1.7\n",
    "print(int(x))"
   ]
  },
  {
   "cell_type": "code",
   "execution_count": 29,
   "id": "4180c2f5",
   "metadata": {},
   "outputs": [],
   "source": [
    "def abs_val(num):\n",
    "    if num < 0 :\n",
    "        return -num\n",
    "    elif num == 0:\n",
    "        return 0\n",
    "    else :\n",
    "        return num"
   ]
  },
  {
   "cell_type": "code",
   "execution_count": 30,
   "id": "aa16fa3a",
   "metadata": {},
   "outputs": [
    {
     "name": "stdout",
     "output_type": "stream",
     "text": [
      "4\n"
     ]
    }
   ],
   "source": [
    "result = abs_val (-4)\n",
    "print(result)"
   ]
  },
  {
   "cell_type": "code",
   "execution_count": 31,
   "id": "6b284ae5",
   "metadata": {},
   "outputs": [
    {
     "name": "stdout",
     "output_type": "stream",
     "text": [
      "12\n"
     ]
    }
   ],
   "source": [
    "result = abs_val (12)\n",
    "print(result)"
   ]
  },
  {
   "cell_type": "code",
   "execution_count": null,
   "id": "fed2f66d",
   "metadata": {},
   "outputs": [],
   "source": []
  }
 ],
 "metadata": {
  "kernelspec": {
   "display_name": "Python 3 (ipykernel)",
   "language": "python",
   "name": "python3"
  },
  "language_info": {
   "codemirror_mode": {
    "name": "ipython",
    "version": 3
   },
   "file_extension": ".py",
   "mimetype": "text/x-python",
   "name": "python",
   "nbconvert_exporter": "python",
   "pygments_lexer": "ipython3",
   "version": "3.11.4"
  }
 },
 "nbformat": 4,
 "nbformat_minor": 5
}
